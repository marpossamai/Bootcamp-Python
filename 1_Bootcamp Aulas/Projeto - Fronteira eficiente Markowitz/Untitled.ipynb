{
 "cells": [
  {
   "cell_type": "markdown",
   "id": "1a965d80",
   "metadata": {},
   "source": [
    "O objetivo é criar um portfólio que otimiza o risco-retorno dos investimentos disponíveis escolhendo os pesos ideais pra cada ativo na carteira"
   ]
  },
  {
   "cell_type": "code",
   "execution_count": 11,
   "id": "9a44fb84",
   "metadata": {},
   "outputs": [],
   "source": [
    "import numpy as np\n",
    "import matplotlib.pyplot as plt\n",
    "import datetime as dt\n",
    "import pandas as pd\n",
    "from scipy.optimize import minimize\n",
    "import matplotlib.ticker as mtick\n",
    "import yfinance as yf"
   ]
  },
  {
   "cell_type": "code",
   "execution_count": 12,
   "id": "d05fe632",
   "metadata": {},
   "outputs": [],
   "source": [
    "inicio = dt.date(2015, 1, 1)\n",
    "final = dt.date(2022, 12, 31)"
   ]
  },
  {
   "cell_type": "code",
   "execution_count": 18,
   "id": "7597ec43",
   "metadata": {},
   "outputs": [
    {
     "name": "stdout",
     "output_type": "stream",
     "text": [
      "[*********************100%***********************]  6 of 6 completed\n"
     ]
    },
    {
     "data": {
      "text/html": [
       "<div>\n",
       "<style scoped>\n",
       "    .dataframe tbody tr th:only-of-type {\n",
       "        vertical-align: middle;\n",
       "    }\n",
       "\n",
       "    .dataframe tbody tr th {\n",
       "        vertical-align: top;\n",
       "    }\n",
       "\n",
       "    .dataframe thead th {\n",
       "        text-align: right;\n",
       "    }\n",
       "</style>\n",
       "<table border=\"1\" class=\"dataframe\">\n",
       "  <thead>\n",
       "    <tr style=\"text-align: right;\">\n",
       "      <th></th>\n",
       "      <th>EGIE3.SA</th>\n",
       "      <th>EQTL3.SA</th>\n",
       "      <th>LREN3.SA</th>\n",
       "      <th>PETR4.SA</th>\n",
       "      <th>VALE3.SA</th>\n",
       "      <th>WEGE3.SA</th>\n",
       "    </tr>\n",
       "    <tr>\n",
       "      <th>Date</th>\n",
       "      <th></th>\n",
       "      <th></th>\n",
       "      <th></th>\n",
       "      <th></th>\n",
       "      <th></th>\n",
       "      <th></th>\n",
       "    </tr>\n",
       "  </thead>\n",
       "  <tbody>\n",
       "    <tr>\n",
       "      <th>2015-01-02</th>\n",
       "      <td>15.295002</td>\n",
       "      <td>4.655889</td>\n",
       "      <td>10.702309</td>\n",
       "      <td>4.124554</td>\n",
       "      <td>13.109158</td>\n",
       "      <td>5.124121</td>\n",
       "    </tr>\n",
       "    <tr>\n",
       "      <th>2015-01-05</th>\n",
       "      <td>15.313766</td>\n",
       "      <td>4.478119</td>\n",
       "      <td>10.404793</td>\n",
       "      <td>3.772028</td>\n",
       "      <td>12.912025</td>\n",
       "      <td>5.159060</td>\n",
       "    </tr>\n",
       "    <tr>\n",
       "      <th>2015-01-06</th>\n",
       "      <td>15.623319</td>\n",
       "      <td>4.730382</td>\n",
       "      <td>10.524646</td>\n",
       "      <td>3.648643</td>\n",
       "      <td>13.429493</td>\n",
       "      <td>5.082531</td>\n",
       "    </tr>\n",
       "    <tr>\n",
       "      <th>2015-01-07</th>\n",
       "      <td>16.017303</td>\n",
       "      <td>4.689750</td>\n",
       "      <td>10.703721</td>\n",
       "      <td>3.820501</td>\n",
       "      <td>13.922318</td>\n",
       "      <td>5.024303</td>\n",
       "    </tr>\n",
       "    <tr>\n",
       "      <th>2015-01-08</th>\n",
       "      <td>16.181467</td>\n",
       "      <td>4.655889</td>\n",
       "      <td>10.716412</td>\n",
       "      <td>4.067268</td>\n",
       "      <td>14.070166</td>\n",
       "      <td>5.109149</td>\n",
       "    </tr>\n",
       "    <tr>\n",
       "      <th>...</th>\n",
       "      <td>...</td>\n",
       "      <td>...</td>\n",
       "      <td>...</td>\n",
       "      <td>...</td>\n",
       "      <td>...</td>\n",
       "      <td>...</td>\n",
       "    </tr>\n",
       "    <tr>\n",
       "      <th>2022-12-23</th>\n",
       "      <td>38.090000</td>\n",
       "      <td>26.969999</td>\n",
       "      <td>21.653334</td>\n",
       "      <td>25.120001</td>\n",
       "      <td>84.465065</td>\n",
       "      <td>38.228981</td>\n",
       "    </tr>\n",
       "    <tr>\n",
       "      <th>2022-12-26</th>\n",
       "      <td>37.759998</td>\n",
       "      <td>26.309999</td>\n",
       "      <td>20.495455</td>\n",
       "      <td>24.940001</td>\n",
       "      <td>85.238083</td>\n",
       "      <td>37.921162</td>\n",
       "    </tr>\n",
       "    <tr>\n",
       "      <th>2022-12-27</th>\n",
       "      <td>37.560001</td>\n",
       "      <td>26.370001</td>\n",
       "      <td>20.168873</td>\n",
       "      <td>25.110001</td>\n",
       "      <td>87.273392</td>\n",
       "      <td>37.742432</td>\n",
       "    </tr>\n",
       "    <tr>\n",
       "      <th>2022-12-28</th>\n",
       "      <td>37.830002</td>\n",
       "      <td>27.280001</td>\n",
       "      <td>20.624109</td>\n",
       "      <td>24.799999</td>\n",
       "      <td>87.077682</td>\n",
       "      <td>38.427574</td>\n",
       "    </tr>\n",
       "    <tr>\n",
       "      <th>2022-12-29</th>\n",
       "      <td>37.880001</td>\n",
       "      <td>27.020000</td>\n",
       "      <td>20.267838</td>\n",
       "      <td>24.500000</td>\n",
       "      <td>86.970047</td>\n",
       "      <td>38.238911</td>\n",
       "    </tr>\n",
       "  </tbody>\n",
       "</table>\n",
       "<p>1988 rows × 6 columns</p>\n",
       "</div>"
      ],
      "text/plain": [
       "             EGIE3.SA   EQTL3.SA   LREN3.SA   PETR4.SA   VALE3.SA   WEGE3.SA\n",
       "Date                                                                        \n",
       "2015-01-02  15.295002   4.655889  10.702309   4.124554  13.109158   5.124121\n",
       "2015-01-05  15.313766   4.478119  10.404793   3.772028  12.912025   5.159060\n",
       "2015-01-06  15.623319   4.730382  10.524646   3.648643  13.429493   5.082531\n",
       "2015-01-07  16.017303   4.689750  10.703721   3.820501  13.922318   5.024303\n",
       "2015-01-08  16.181467   4.655889  10.716412   4.067268  14.070166   5.109149\n",
       "...               ...        ...        ...        ...        ...        ...\n",
       "2022-12-23  38.090000  26.969999  21.653334  25.120001  84.465065  38.228981\n",
       "2022-12-26  37.759998  26.309999  20.495455  24.940001  85.238083  37.921162\n",
       "2022-12-27  37.560001  26.370001  20.168873  25.110001  87.273392  37.742432\n",
       "2022-12-28  37.830002  27.280001  20.624109  24.799999  87.077682  38.427574\n",
       "2022-12-29  37.880001  27.020000  20.267838  24.500000  86.970047  38.238911\n",
       "\n",
       "[1988 rows x 6 columns]"
      ]
     },
     "execution_count": 18,
     "metadata": {},
     "output_type": "execute_result"
    }
   ],
   "source": [
    "lista_acoes = ['WEGE3', 'LREN3', 'VALE3', 'PETR4', 'EQTL3', 'EGIE3']\n",
    "lista_acoes = [acao + '.SA' for acao in lista_acoes]\n",
    "#lista_acoes = [\"AAPL\", \"NKE\", \"GOOGL\", \"AMZN\"]\n",
    "\n",
    "precos = yf.download(lista_acoes, inicio, final)['Adj Close']\n",
    "\n",
    "precos"
   ]
  },
  {
   "cell_type": "code",
   "execution_count": 19,
   "id": "ac3059e6",
   "metadata": {},
   "outputs": [
    {
     "data": {
      "text/plain": [
       "EGIE3.SA    0.000456\n",
       "EQTL3.SA    0.000885\n",
       "LREN3.SA    0.000321\n",
       "PETR4.SA    0.000897\n",
       "VALE3.SA    0.000952\n",
       "WEGE3.SA    0.001012\n",
       "dtype: float64"
      ]
     },
     "execution_count": 19,
     "metadata": {},
     "output_type": "execute_result"
    }
   ],
   "source": [
    "retornos = precos.pct_change().apply(lambda x: np.log(1 + x)).dropna() #retorno logaritmo\n",
    "media_retornos = retornos.mean()\n",
    "matriz_covar = retornos.cov()\n",
    "media_retornos"
   ]
  },
  {
   "cell_type": "code",
   "execution_count": 22,
   "id": "4c1f7d67",
   "metadata": {},
   "outputs": [],
   "source": [
    "numero_carteiras = 100000\n",
    "tabela_retornos_esperados = np.zeros(numero_carteiras)\n",
    "tabela_volatilidades_esperadas = np.zeros(numero_carteiras)\n",
    "tabela_sharpe = np.zeros(numero_carteiras)\n",
    "tabela_pesos = np.zeros((numero_carteiras, len(lista_acoes)))\n",
    "\n",
    "for i in range(numero_carteiras):\n",
    "    \n",
    "    pesos = np.random.random(len(lista_acoes))\n",
    "    pesos = pesos / np.sum(pesos)\n",
    "    tabela_pesos[i, :] = pesos\n",
    "    \n",
    "    tabela_retornos_esperados[i] = np.sum(media_retornos * pesos * 252)\n",
    "    tabela_volatilidades_esperadas[i] = np.sqrt(np.dot(pesos.T, np.dot(matriz_covar * 252, pesos)))\n",
    "    \n",
    "    tabela_sharpe[i] = tabela_retornos_esperados[i] / tabela_volatilidades_esperadas[i]"
   ]
  },
  {
   "cell_type": "code",
   "execution_count": 23,
   "id": "ce56e2b0",
   "metadata": {},
   "outputs": [
    {
     "data": {
      "text/plain": [
       "array([0.02634071, 0.50801386, 0.00411257, 0.02315022, 0.14738685,\n",
       "       0.2909958 ])"
      ]
     },
     "execution_count": 23,
     "metadata": {},
     "output_type": "execute_result"
    }
   ],
   "source": [
    "indice_sharpe_max = tabela_sharpe.argmax()\n",
    "tabela_pesos[indice_sharpe_max]"
   ]
  },
  {
   "cell_type": "code",
   "execution_count": 25,
   "id": "12788058",
   "metadata": {},
   "outputs": [],
   "source": [
    "tabela_retornos_esperados_arit = np.exp(tabela_retornos_esperados) - 1"
   ]
  },
  {
   "cell_type": "code",
   "execution_count": 27,
   "id": "6c50eb42",
   "metadata": {},
   "outputs": [],
   "source": [
    "eixo_y_fronteiira_eficiente = np.linspace(tabela_retornos_esperados_arit.min(), tabela_retornos_esperados_arit.max(), 50)\n",
    "\n",
    "\n",
    "def pegando_retorno(peso_teste):\n",
    "    peso_teste = np.array(peso_teste)\n",
    "    retorno = np.sum(media_retornos * peso_teste) * 252\n",
    "    retorno = np.exp(retorno) - 1\n",
    "    \n",
    "    return retorno\n",
    "\n",
    "\n",
    "\n",
    "def checando_soma_pesos(peso_teste):\n",
    "    \n",
    "    return np.sum(peso_teste) - 1\n",
    "\n",
    "\n",
    "\n",
    "def pegando_vol(peso_teste):\n",
    "    peso_teste = np.array(peso_teste)\n",
    "    vol = np.sqrt(np.dot(peso_teste.T, np.dot(matriz_covar * 252, peso_teste)))\n",
    "    \n",
    "    return vol\n",
    "\n",
    "\n",
    "\n",
    "peso_inicial = [1 / len(lista_acoes)] * len(lista_acoes)\n",
    "limites = tuple([(0, 1) for ativo in lista_acoes])\n",
    "\n",
    "eixo_x_fronteira_eficiente = []\n",
    "\n",
    "for retorno_possivel in eixo_y_fronteiira_eficiente:\n",
    "    #pegar melhor volatilidade para cada retorno possível\n",
    "    restricoes = ({'type' : 'eq', 'fun' : checando_soma_pesos},\n",
    "                   {'type' : 'eq', 'fun' : lambda w: pegando_retorno(w) - retorno_possivel})\n",
    "    \n",
    "    result = minimize(pegando_vol, peso_inicial, method = 'SLSQP', bounds = limites, constraints = restricoes)\n",
    "    eixo_x_fronteira_eficiente.append(result['fun'])"
   ]
  },
  {
   "cell_type": "code",
   "execution_count": 32,
   "id": "8ec7ea80",
   "metadata": {},
   "outputs": [
    {
     "data": {
      "image/png": "[encoded data removed]",
      "text/plain": [
       "<Figure size 432x288 with 1 Axes>"
      ]
     },
     "metadata": {
      "needs_background": "dark"
     },
     "output_type": "display_data"
    }
   ],
   "source": [
    "fig, ax = plt.subplots()\n",
    "\n",
    "ax.scatter(tabela_volatilidades_esperadas, tabela_retornos_esperados_arit, c = tabela_sharpe)\n",
    "plt.xlabel('Volatilidade esperada')\n",
    "plt.ylabel('Retorno esperado')\n",
    "ax.xaxis.label.set_color('white')\n",
    "ax.yaxis.label.set_color('white')\n",
    "ax.scatter(tabela_volatilidades_esperadas[indice_sharpe_max], tabela_retornos_esperados_arit[indice_sharpe_max], c = 'r')\n",
    "ax.plot(eixo_x_fronteira_eficiente, eixo_y_fronteiira_eficiente)\n",
    "ax.yaxis.set_major_formatter(mtick.PercentFormatter(1.0))\n",
    "ax.xaxis.set_major_formatter(mtick.PercentFormatter(1.0))\n",
    "ax.tick_params(axis = 'x', colors = 'white')\n",
    "ax.tick_params(axis = 'y', colors = 'white')\n",
    "\n",
    "plt.show()"
   ]
  },
  {
   "cell_type": "code",
   "execution_count": null,
   "id": "f498d391",
   "metadata": {},
   "outputs": [],
   "source": []
  }
 ],
 "metadata": {
  "kernelspec": {
   "display_name": "Python 3 (ipykernel)",
   "language": "python",
   "name": "python3"
  },
  "language_info": {
   "codemirror_mode": {
    "name": "ipython",
    "version": 3
   },
   "file_extension": ".py",
   "mimetype": "text/x-python",
   "name": "python",
   "nbconvert_exporter": "python",
   "pygments_lexer": "ipython3",
   "version": "3.9.12"
  }
 },
 "nbformat": 4,
 "nbformat_minor": 5
}
